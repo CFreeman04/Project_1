{
 "cells": [
  {
   "cell_type": "code",
   "execution_count": 2,
   "id": "089dafbe",
   "metadata": {},
   "outputs": [
    {
     "name": "stdout",
     "output_type": "stream",
     "text": [
      "<class 'pandas.core.frame.DataFrame'>\n",
      "RangeIndex: 6809 entries, 0 to 6808\n",
      "Data columns (total 15 columns):\n",
      " #   Column                      Non-Null Count  Dtype \n",
      "---  ------                      --------------  ----- \n",
      " 0   Crash Year                  6809 non-null   int64 \n",
      " 1   Crash Month                 6809 non-null   object\n",
      " 2   Crash Day                   6809 non-null   int64 \n",
      " 3   Time of Day                 6809 non-null   object\n",
      " 4   Day of Week                 6809 non-null   object\n",
      " 5   City or Township            6809 non-null   object\n",
      " 6   Crash: Intersection         6809 non-null   object\n",
      " 7   Crash: Hit-and-Run          6809 non-null   object\n",
      " 8   Lighting Conditions         6809 non-null   object\n",
      " 9   Weather Conditions (2016+)  6809 non-null   object\n",
      " 10  Speed Limit at Crash Site   6809 non-null   object\n",
      " 11  Worst Injury in Crash       6809 non-null   object\n",
      " 12  Party Type                  6809 non-null   object\n",
      " 13  Person Age                  6809 non-null   object\n",
      " 14  Person Gender               6809 non-null   object\n",
      "dtypes: int64(2), object(13)\n",
      "memory usage: 798.1+ KB\n"
     ]
    }
   ],
   "source": [
    "import pandas as pd\n",
    "\n",
    "pedi_auto_df = pd.read_csv('ped_crashes.csv')\n",
    "pedi_auto_df.info()"
   ]
  },
  {
   "cell_type": "code",
   "execution_count": null,
   "id": "ef093225",
   "metadata": {},
   "outputs": [],
   "source": []
  }
 ],
 "metadata": {
  "kernelspec": {
   "display_name": "Python 3 (ipykernel)",
   "language": "python",
   "name": "python3"
  },
  "language_info": {
   "codemirror_mode": {
    "name": "ipython",
    "version": 3
   },
   "file_extension": ".py",
   "mimetype": "text/x-python",
   "name": "python",
   "nbconvert_exporter": "python",
   "pygments_lexer": "ipython3",
   "version": "3.9.12"
  }
 },
 "nbformat": 4,
 "nbformat_minor": 5
}
