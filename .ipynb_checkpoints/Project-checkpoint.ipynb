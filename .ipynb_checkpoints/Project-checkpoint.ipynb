{
 "cells": [
  {
   "cell_type": "code",
   "execution_count": 1,
   "metadata": {},
   "outputs": [],
   "source": [
    "import matplotlib.pyplot as plt\n",
    "import pandas as pd\n",
    "import numpy as np\n",
    "import requests\n",
    "import time\n",
    "import seaborn as sns\n",
    "from scipy.stats import linregress\n",
    "from pprint import pprint"
   ]
  },
  {
   "cell_type": "code",
   "execution_count": 2,
   "metadata": {
    "scrolled": true
   },
   "outputs": [
    {
     "data": {
      "text/html": [
       "<div>\n",
       "<style scoped>\n",
       "    .dataframe tbody tr th:only-of-type {\n",
       "        vertical-align: middle;\n",
       "    }\n",
       "\n",
       "    .dataframe tbody tr th {\n",
       "        vertical-align: top;\n",
       "    }\n",
       "\n",
       "    .dataframe thead th {\n",
       "        text-align: right;\n",
       "    }\n",
       "</style>\n",
       "<table border=\"1\" class=\"dataframe\">\n",
       "  <thead>\n",
       "    <tr style=\"text-align: right;\">\n",
       "      <th></th>\n",
       "      <th>year</th>\n",
       "      <th>month</th>\n",
       "      <th>carrier</th>\n",
       "      <th>carrier_name</th>\n",
       "      <th>airport</th>\n",
       "      <th>airport_name</th>\n",
       "      <th>arr_flights</th>\n",
       "      <th>arr_del15</th>\n",
       "      <th>carrier_ct</th>\n",
       "      <th>weather_ct</th>\n",
       "      <th>...</th>\n",
       "      <th>security_ct</th>\n",
       "      <th>late_aircraft_ct</th>\n",
       "      <th>arr_cancelled</th>\n",
       "      <th>arr_diverted</th>\n",
       "      <th>arr_delay</th>\n",
       "      <th>carrier_delay</th>\n",
       "      <th>weather_delay</th>\n",
       "      <th>nas_delay</th>\n",
       "      <th>security_delay</th>\n",
       "      <th>late_aircraft_delay</th>\n",
       "    </tr>\n",
       "  </thead>\n",
       "  <tbody>\n",
       "    <tr>\n",
       "      <th>0</th>\n",
       "      <td>2022</td>\n",
       "      <td>5</td>\n",
       "      <td>9E</td>\n",
       "      <td>Endeavor Air Inc.</td>\n",
       "      <td>ABE</td>\n",
       "      <td>Allentown/Bethlehem/Easton, PA: Lehigh Valley ...</td>\n",
       "      <td>136.0</td>\n",
       "      <td>7.0</td>\n",
       "      <td>5.95</td>\n",
       "      <td>0.00</td>\n",
       "      <td>...</td>\n",
       "      <td>0.0</td>\n",
       "      <td>1.00</td>\n",
       "      <td>0.0</td>\n",
       "      <td>0.0</td>\n",
       "      <td>255.0</td>\n",
       "      <td>222.0</td>\n",
       "      <td>0.0</td>\n",
       "      <td>4.0</td>\n",
       "      <td>0.0</td>\n",
       "      <td>29.0</td>\n",
       "    </tr>\n",
       "    <tr>\n",
       "      <th>1</th>\n",
       "      <td>2022</td>\n",
       "      <td>5</td>\n",
       "      <td>9E</td>\n",
       "      <td>Endeavor Air Inc.</td>\n",
       "      <td>ABY</td>\n",
       "      <td>Albany, GA: Southwest Georgia Regional</td>\n",
       "      <td>91.0</td>\n",
       "      <td>16.0</td>\n",
       "      <td>7.38</td>\n",
       "      <td>0.00</td>\n",
       "      <td>...</td>\n",
       "      <td>0.0</td>\n",
       "      <td>6.09</td>\n",
       "      <td>0.0</td>\n",
       "      <td>0.0</td>\n",
       "      <td>884.0</td>\n",
       "      <td>351.0</td>\n",
       "      <td>0.0</td>\n",
       "      <td>81.0</td>\n",
       "      <td>0.0</td>\n",
       "      <td>452.0</td>\n",
       "    </tr>\n",
       "    <tr>\n",
       "      <th>2</th>\n",
       "      <td>2022</td>\n",
       "      <td>5</td>\n",
       "      <td>9E</td>\n",
       "      <td>Endeavor Air Inc.</td>\n",
       "      <td>ACK</td>\n",
       "      <td>Nantucket, MA: Nantucket Memorial</td>\n",
       "      <td>19.0</td>\n",
       "      <td>2.0</td>\n",
       "      <td>0.13</td>\n",
       "      <td>0.00</td>\n",
       "      <td>...</td>\n",
       "      <td>0.0</td>\n",
       "      <td>0.88</td>\n",
       "      <td>1.0</td>\n",
       "      <td>0.0</td>\n",
       "      <td>138.0</td>\n",
       "      <td>4.0</td>\n",
       "      <td>0.0</td>\n",
       "      <td>106.0</td>\n",
       "      <td>0.0</td>\n",
       "      <td>28.0</td>\n",
       "    </tr>\n",
       "    <tr>\n",
       "      <th>3</th>\n",
       "      <td>2022</td>\n",
       "      <td>5</td>\n",
       "      <td>9E</td>\n",
       "      <td>Endeavor Air Inc.</td>\n",
       "      <td>AEX</td>\n",
       "      <td>Alexandria, LA: Alexandria International</td>\n",
       "      <td>88.0</td>\n",
       "      <td>14.0</td>\n",
       "      <td>7.26</td>\n",
       "      <td>0.76</td>\n",
       "      <td>...</td>\n",
       "      <td>0.0</td>\n",
       "      <td>1.64</td>\n",
       "      <td>0.0</td>\n",
       "      <td>0.0</td>\n",
       "      <td>947.0</td>\n",
       "      <td>585.0</td>\n",
       "      <td>35.0</td>\n",
       "      <td>125.0</td>\n",
       "      <td>0.0</td>\n",
       "      <td>202.0</td>\n",
       "    </tr>\n",
       "    <tr>\n",
       "      <th>4</th>\n",
       "      <td>2022</td>\n",
       "      <td>5</td>\n",
       "      <td>9E</td>\n",
       "      <td>Endeavor Air Inc.</td>\n",
       "      <td>AGS</td>\n",
       "      <td>Augusta, GA: Augusta Regional at Bush Field</td>\n",
       "      <td>181.0</td>\n",
       "      <td>19.0</td>\n",
       "      <td>13.84</td>\n",
       "      <td>0.00</td>\n",
       "      <td>...</td>\n",
       "      <td>0.0</td>\n",
       "      <td>2.09</td>\n",
       "      <td>0.0</td>\n",
       "      <td>0.0</td>\n",
       "      <td>808.0</td>\n",
       "      <td>662.0</td>\n",
       "      <td>0.0</td>\n",
       "      <td>87.0</td>\n",
       "      <td>0.0</td>\n",
       "      <td>59.0</td>\n",
       "    </tr>\n",
       "  </tbody>\n",
       "</table>\n",
       "<p>5 rows × 21 columns</p>\n",
       "</div>"
      ],
      "text/plain": [
       "   year  month carrier       carrier_name airport  \\\n",
       "0  2022      5      9E  Endeavor Air Inc.     ABE   \n",
       "1  2022      5      9E  Endeavor Air Inc.     ABY   \n",
       "2  2022      5      9E  Endeavor Air Inc.     ACK   \n",
       "3  2022      5      9E  Endeavor Air Inc.     AEX   \n",
       "4  2022      5      9E  Endeavor Air Inc.     AGS   \n",
       "\n",
       "                                        airport_name  arr_flights  arr_del15  \\\n",
       "0  Allentown/Bethlehem/Easton, PA: Lehigh Valley ...        136.0        7.0   \n",
       "1             Albany, GA: Southwest Georgia Regional         91.0       16.0   \n",
       "2                  Nantucket, MA: Nantucket Memorial         19.0        2.0   \n",
       "3           Alexandria, LA: Alexandria International         88.0       14.0   \n",
       "4        Augusta, GA: Augusta Regional at Bush Field        181.0       19.0   \n",
       "\n",
       "   carrier_ct  weather_ct  ...  security_ct  late_aircraft_ct  arr_cancelled  \\\n",
       "0        5.95        0.00  ...          0.0              1.00            0.0   \n",
       "1        7.38        0.00  ...          0.0              6.09            0.0   \n",
       "2        0.13        0.00  ...          0.0              0.88            1.0   \n",
       "3        7.26        0.76  ...          0.0              1.64            0.0   \n",
       "4       13.84        0.00  ...          0.0              2.09            0.0   \n",
       "\n",
       "   arr_diverted  arr_delay  carrier_delay  weather_delay  nas_delay  \\\n",
       "0           0.0      255.0          222.0            0.0        4.0   \n",
       "1           0.0      884.0          351.0            0.0       81.0   \n",
       "2           0.0      138.0            4.0            0.0      106.0   \n",
       "3           0.0      947.0          585.0           35.0      125.0   \n",
       "4           0.0      808.0          662.0            0.0       87.0   \n",
       "\n",
       "   security_delay  late_aircraft_delay  \n",
       "0             0.0                 29.0  \n",
       "1             0.0                452.0  \n",
       "2             0.0                 28.0  \n",
       "3             0.0                202.0  \n",
       "4             0.0                 59.0  \n",
       "\n",
       "[5 rows x 21 columns]"
      ]
     },
     "execution_count": 2,
     "metadata": {},
     "output_type": "execute_result"
    }
   ],
   "source": [
    "# Read CSV file into DF\n",
    "airline_df = pd.read_csv(\"Resources/Airline_Delay_cause.csv\")\n",
    "\n",
    "# Display beggining of DataFrame\n",
    "airline_df.head()"
   ]
  },
  {
   "cell_type": "code",
   "execution_count": 3,
   "metadata": {
    "scrolled": false
   },
   "outputs": [
    {
     "name": "stdout",
     "output_type": "stream",
     "text": [
      "<class 'pandas.core.frame.DataFrame'>\n",
      "RangeIndex: 318017 entries, 0 to 318016\n",
      "Data columns (total 21 columns):\n",
      " #   Column               Non-Null Count   Dtype  \n",
      "---  ------               --------------   -----  \n",
      " 0   year                 318017 non-null  int64  \n",
      " 1   month                318017 non-null  int64  \n",
      " 2   carrier              318017 non-null  object \n",
      " 3   carrier_name         318017 non-null  object \n",
      " 4   airport              318017 non-null  object \n",
      " 5   airport_name         318017 non-null  object \n",
      " 6   arr_flights          317529 non-null  float64\n",
      " 7   arr_del15            317289 non-null  float64\n",
      " 8   carrier_ct           317529 non-null  float64\n",
      " 9   weather_ct           317529 non-null  float64\n",
      " 10  nas_ct               317529 non-null  float64\n",
      " 11  security_ct          317529 non-null  float64\n",
      " 12  late_aircraft_ct     317529 non-null  float64\n",
      " 13  arr_cancelled        317529 non-null  float64\n",
      " 14  arr_diverted         317529 non-null  float64\n",
      " 15  arr_delay            317529 non-null  float64\n",
      " 16  carrier_delay        317529 non-null  float64\n",
      " 17  weather_delay        317529 non-null  float64\n",
      " 18  nas_delay            317529 non-null  float64\n",
      " 19  security_delay       317529 non-null  float64\n",
      " 20  late_aircraft_delay  317529 non-null  float64\n",
      "dtypes: float64(15), int64(2), object(4)\n",
      "memory usage: 51.0+ MB\n"
     ]
    }
   ],
   "source": [
    "# Display DataFrame Info\n",
    "airline_df.info()"
   ]
  },
  {
   "cell_type": "code",
   "execution_count": 4,
   "metadata": {},
   "outputs": [
    {
     "name": "stdout",
     "output_type": "stream",
     "text": [
      "<class 'pandas.core.frame.DataFrame'>\n",
      "Int64Index: 317289 entries, 0 to 318016\n",
      "Data columns (total 21 columns):\n",
      " #   Column               Non-Null Count   Dtype  \n",
      "---  ------               --------------   -----  \n",
      " 0   year                 317289 non-null  int64  \n",
      " 1   month                317289 non-null  int64  \n",
      " 2   carrier              317289 non-null  object \n",
      " 3   carrier_name         317289 non-null  object \n",
      " 4   airport              317289 non-null  object \n",
      " 5   airport_name         317289 non-null  object \n",
      " 6   arr_flights          317289 non-null  float64\n",
      " 7   arr_del15            317289 non-null  float64\n",
      " 8   carrier_ct           317289 non-null  float64\n",
      " 9   weather_ct           317289 non-null  float64\n",
      " 10  nas_ct               317289 non-null  float64\n",
      " 11  security_ct          317289 non-null  float64\n",
      " 12  late_aircraft_ct     317289 non-null  float64\n",
      " 13  arr_cancelled        317289 non-null  float64\n",
      " 14  arr_diverted         317289 non-null  float64\n",
      " 15  arr_delay            317289 non-null  float64\n",
      " 16  carrier_delay        317289 non-null  float64\n",
      " 17  weather_delay        317289 non-null  float64\n",
      " 18  nas_delay            317289 non-null  float64\n",
      " 19  security_delay       317289 non-null  float64\n",
      " 20  late_aircraft_delay  317289 non-null  float64\n",
      "dtypes: float64(15), int64(2), object(4)\n",
      "memory usage: 53.3+ MB\n"
     ]
    }
   ],
   "source": [
    "# Drop non-null values\n",
    "airline_clean_df = airline_df.dropna()\n",
    "airline_clean_df.info()"
   ]
  },
  {
   "cell_type": "code",
   "execution_count": 22,
   "metadata": {},
   "outputs": [],
   "source": [
    "df1 = airline_clean_df[['year', 'month', 'arr_cancelled']].dropna()\n",
    "df1=df1.groupby(['year', 'month']).sum()\n",
    "df1.reset_index(inplace=True)"
   ]
  },
  {
   "cell_type": "code",
   "execution_count": 23,
   "metadata": {},
   "outputs": [
    {
     "data": {
      "text/html": [
       "<div>\n",
       "<style scoped>\n",
       "    .dataframe tbody tr th:only-of-type {\n",
       "        vertical-align: middle;\n",
       "    }\n",
       "\n",
       "    .dataframe tbody tr th {\n",
       "        vertical-align: top;\n",
       "    }\n",
       "\n",
       "    .dataframe thead th {\n",
       "        text-align: right;\n",
       "    }\n",
       "</style>\n",
       "<table border=\"1\" class=\"dataframe\">\n",
       "  <thead>\n",
       "    <tr style=\"text-align: right;\">\n",
       "      <th></th>\n",
       "      <th>year</th>\n",
       "      <th>month</th>\n",
       "      <th>arr_cancelled</th>\n",
       "    </tr>\n",
       "  </thead>\n",
       "  <tbody>\n",
       "    <tr>\n",
       "      <th>0</th>\n",
       "      <td>2003</td>\n",
       "      <td>6</td>\n",
       "      <td>4161.0</td>\n",
       "    </tr>\n",
       "    <tr>\n",
       "      <th>1</th>\n",
       "      <td>2003</td>\n",
       "      <td>7</td>\n",
       "      <td>7835.0</td>\n",
       "    </tr>\n",
       "    <tr>\n",
       "      <th>2</th>\n",
       "      <td>2003</td>\n",
       "      <td>8</td>\n",
       "      <td>9109.0</td>\n",
       "    </tr>\n",
       "    <tr>\n",
       "      <th>3</th>\n",
       "      <td>2003</td>\n",
       "      <td>9</td>\n",
       "      <td>7691.0</td>\n",
       "    </tr>\n",
       "    <tr>\n",
       "      <th>4</th>\n",
       "      <td>2003</td>\n",
       "      <td>10</td>\n",
       "      <td>5091.0</td>\n",
       "    </tr>\n",
       "  </tbody>\n",
       "</table>\n",
       "</div>"
      ],
      "text/plain": [
       "   year  month  arr_cancelled\n",
       "0  2003      6         4161.0\n",
       "1  2003      7         7835.0\n",
       "2  2003      8         9109.0\n",
       "3  2003      9         7691.0\n",
       "4  2003     10         5091.0"
      ]
     },
     "execution_count": 23,
     "metadata": {},
     "output_type": "execute_result"
    }
   ],
   "source": [
    "df1.head()"
   ]
  },
  {
   "cell_type": "code",
   "execution_count": 24,
   "metadata": {},
   "outputs": [
    {
     "data": {
      "text/plain": [
       "Text(0, 0.5, 'Number of cancelled arrivals')"
      ]
     },
     "execution_count": 24,
     "metadata": {},
     "output_type": "execute_result"
    },
    {
     "data": {
      "image/png": "[encoded data removed]",
      "text/plain": [
       "<Figure size 720x360 with 1 Axes>"
      ]
     },
     "metadata": {
      "needs_background": "light"
     },
     "output_type": "display_data"
    }
   ],
   "source": [
    "plt.figure(figsize=(10,5))\n",
    "\n",
    "sns.lineplot(data=df1, x=\"year\", y=\"arr_cancelled\")\n",
    "plt.ylabel('Number of cancelled arrivals')"
   ]
  },
  {
   "cell_type": "code",
   "execution_count": 28,
   "metadata": {},
   "outputs": [
    {
     "data": {
      "text/html": [
       "<div>\n",
       "<style scoped>\n",
       "    .dataframe tbody tr th:only-of-type {\n",
       "        vertical-align: middle;\n",
       "    }\n",
       "\n",
       "    .dataframe tbody tr th {\n",
       "        vertical-align: top;\n",
       "    }\n",
       "\n",
       "    .dataframe thead th {\n",
       "        text-align: right;\n",
       "    }\n",
       "</style>\n",
       "<table border=\"1\" class=\"dataframe\">\n",
       "  <thead>\n",
       "    <tr style=\"text-align: right;\">\n",
       "      <th></th>\n",
       "      <th>arr_cancelled</th>\n",
       "    </tr>\n",
       "    <tr>\n",
       "      <th>carrier_name</th>\n",
       "      <th></th>\n",
       "    </tr>\n",
       "  </thead>\n",
       "  <tbody>\n",
       "    <tr>\n",
       "      <th>Southwest Airlines Co.</th>\n",
       "      <td>19.298589</td>\n",
       "    </tr>\n",
       "    <tr>\n",
       "      <th>American Airlines Inc.</th>\n",
       "      <td>13.406070</td>\n",
       "    </tr>\n",
       "    <tr>\n",
       "      <th>American Eagle Airlines Inc.</th>\n",
       "      <td>11.572254</td>\n",
       "    </tr>\n",
       "    <tr>\n",
       "      <th>Atlantic Coast Airlines</th>\n",
       "      <td>9.545092</td>\n",
       "    </tr>\n",
       "    <tr>\n",
       "      <th>Republic Airline</th>\n",
       "      <td>8.472542</td>\n",
       "    </tr>\n",
       "  </tbody>\n",
       "</table>\n",
       "</div>"
      ],
      "text/plain": [
       "                              arr_cancelled\n",
       "carrier_name                               \n",
       "Southwest Airlines Co.            19.298589\n",
       "American Airlines Inc.            13.406070\n",
       "American Eagle Airlines Inc.      11.572254\n",
       "Atlantic Coast Airlines            9.545092\n",
       "Republic Airline                   8.472542"
      ]
     },
     "execution_count": 28,
     "metadata": {},
     "output_type": "execute_result"
    }
   ],
   "source": [
    "df_cancel = airline_clean_df[['carrier_name', 'arr_cancelled']].dropna()\n",
    "df_carrier = df_cancel.groupby('carrier_name').mean()\n",
    "df_cancel = df_carrier.sort_values(by=['arr_cancelled'], ascending=False)\n",
    "df_cancel.head()"
   ]
  },
  {
   "cell_type": "code",
   "execution_count": 26,
   "metadata": {},
   "outputs": [
    {
     "data": {
      "text/plain": [
       "Text(0, 0.5, 'Number of delayed flights')"
      ]
     },
     "execution_count": 26,
     "metadata": {},
     "output_type": "execute_result"
    },
    {
     "data": {
      "image/png": "[encoded data removed]",
      "text/plain": [
       "<Figure size 720x360 with 1 Axes>"
      ]
     },
     "metadata": {
      "needs_background": "light"
     },
     "output_type": "display_data"
    }
   ],
   "source": [
    "plt.figure(figsize=(10,5))\n",
    "\n",
    "sns.lineplot(data=airline_clean_df, x=\"year\", y=\"arr_delay\")\n",
    "plt.ylabel('Number of delayed flights')"
   ]
  },
  {
   "cell_type": "code",
   "execution_count": 29,
   "metadata": {},
   "outputs": [
    {
     "data": {
      "text/html": [
       "<div>\n",
       "<style scoped>\n",
       "    .dataframe tbody tr th:only-of-type {\n",
       "        vertical-align: middle;\n",
       "    }\n",
       "\n",
       "    .dataframe tbody tr th {\n",
       "        vertical-align: top;\n",
       "    }\n",
       "\n",
       "    .dataframe thead th {\n",
       "        text-align: right;\n",
       "    }\n",
       "</style>\n",
       "<table border=\"1\" class=\"dataframe\">\n",
       "  <thead>\n",
       "    <tr style=\"text-align: right;\">\n",
       "      <th></th>\n",
       "      <th>arr_delay</th>\n",
       "    </tr>\n",
       "    <tr>\n",
       "      <th>carrier_name</th>\n",
       "      <th></th>\n",
       "    </tr>\n",
       "  </thead>\n",
       "  <tbody>\n",
       "    <tr>\n",
       "      <th>Southwest Airlines Co.</th>\n",
       "      <td>11242.021393</td>\n",
       "    </tr>\n",
       "    <tr>\n",
       "      <th>American Airlines Inc.</th>\n",
       "      <td>8029.828781</td>\n",
       "    </tr>\n",
       "    <tr>\n",
       "      <th>United Air Lines Inc.</th>\n",
       "      <td>5979.190406</td>\n",
       "    </tr>\n",
       "    <tr>\n",
       "      <th>JetBlue Airways</th>\n",
       "      <td>5429.910599</td>\n",
       "    </tr>\n",
       "    <tr>\n",
       "      <th>Delta Air Lines Inc.</th>\n",
       "      <td>4575.015808</td>\n",
       "    </tr>\n",
       "  </tbody>\n",
       "</table>\n",
       "</div>"
      ],
      "text/plain": [
       "                           arr_delay\n",
       "carrier_name                        \n",
       "Southwest Airlines Co.  11242.021393\n",
       "American Airlines Inc.   8029.828781\n",
       "United Air Lines Inc.    5979.190406\n",
       "JetBlue Airways          5429.910599\n",
       "Delta Air Lines Inc.     4575.015808"
      ]
     },
     "execution_count": 29,
     "metadata": {},
     "output_type": "execute_result"
    }
   ],
   "source": [
    "df_delay = airline_clean_df[['carrier_name', 'arr_delay']].dropna()\n",
    "df_carrier_delay = df_delay.groupby('carrier_name').mean()\n",
    "df_delay = df_carrier_delay.sort_values(by=['arr_delay'], ascending=False)\n",
    "df_delay.head()"
   ]
  },
  {
   "cell_type": "code",
   "execution_count": 30,
   "metadata": {},
   "outputs": [
    {
     "data": {
      "text/html": [
       "<div>\n",
       "<style scoped>\n",
       "    .dataframe tbody tr th:only-of-type {\n",
       "        vertical-align: middle;\n",
       "    }\n",
       "\n",
       "    .dataframe tbody tr th {\n",
       "        vertical-align: top;\n",
       "    }\n",
       "\n",
       "    .dataframe thead th {\n",
       "        text-align: right;\n",
       "    }\n",
       "</style>\n",
       "<table border=\"1\" class=\"dataframe\">\n",
       "  <thead>\n",
       "    <tr style=\"text-align: right;\">\n",
       "      <th></th>\n",
       "      <th>arr_delay</th>\n",
       "    </tr>\n",
       "    <tr>\n",
       "      <th>airport_name</th>\n",
       "      <th></th>\n",
       "    </tr>\n",
       "  </thead>\n",
       "  <tbody>\n",
       "    <tr>\n",
       "      <th>Chicago, IL: Chicago O'Hare International</th>\n",
       "      <td>31867.799072</td>\n",
       "    </tr>\n",
       "    <tr>\n",
       "      <th>Atlanta, GA: Hartsfield-Jackson Atlanta International</th>\n",
       "      <td>27830.672920</td>\n",
       "    </tr>\n",
       "    <tr>\n",
       "      <th>Dallas/Fort Worth, TX: Dallas/Fort Worth International</th>\n",
       "      <td>20571.237799</td>\n",
       "    </tr>\n",
       "    <tr>\n",
       "      <th>Newark, NJ: Newark Liberty International</th>\n",
       "      <td>17511.091818</td>\n",
       "    </tr>\n",
       "    <tr>\n",
       "      <th>San Francisco, CA: San Francisco International</th>\n",
       "      <td>16140.159024</td>\n",
       "    </tr>\n",
       "  </tbody>\n",
       "</table>\n",
       "</div>"
      ],
      "text/plain": [
       "                                                       arr_delay\n",
       "airport_name                                                    \n",
       "Chicago, IL: Chicago O'Hare International           31867.799072\n",
       "Atlanta, GA: Hartsfield-Jackson Atlanta Interna...  27830.672920\n",
       "Dallas/Fort Worth, TX: Dallas/Fort Worth Intern...  20571.237799\n",
       "Newark, NJ: Newark Liberty International            17511.091818\n",
       "San Francisco, CA: San Francisco International      16140.159024"
      ]
     },
     "execution_count": 30,
     "metadata": {},
     "output_type": "execute_result"
    }
   ],
   "source": [
    "df_delay_airport = airline_clean_df[['airport_name', 'arr_delay']].dropna()\n",
    "df_airport_delay = df_delay_airport.groupby('airport_name').mean()\n",
    "df_delay_airport = df_airport_delay.sort_values(by=['arr_delay'], ascending=False)\n",
    "df_delay_airport.head()"
   ]
  },
  {
   "cell_type": "code",
   "execution_count": null,
   "metadata": {},
   "outputs": [],
   "source": []
  }
 ],
 "metadata": {
  "kernelspec": {
   "display_name": "Python 3 (ipykernel)",
   "language": "python",
   "name": "python3"
  },
  "language_info": {
   "codemirror_mode": {
    "name": "ipython",
    "version": 3
   },
   "file_extension": ".py",
   "mimetype": "text/x-python",
   "name": "python",
   "nbconvert_exporter": "python",
   "pygments_lexer": "ipython3",
   "version": "3.9.12"
  },
  "vscode": {
   "interpreter": {
    "hash": "c10e1a588cdedcdf9acdf1b2675e871fe5f6deac27f676eec55fc8f448be1390"
   }
  }
 },
 "nbformat": 4,
 "nbformat_minor": 2
}
